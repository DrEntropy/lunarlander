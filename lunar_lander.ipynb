{
 "cells": [
  {
   "cell_type": "code",
   "execution_count": 1,
   "metadata": {},
   "outputs": [],
   "source": [
    "import gymnasium as gym\n",
    "import torch\n",
    "from torch import nn\n",
    "import matplotlib.pyplot as plt\n",
    "import numpy as np"
   ]
  },
  {
   "cell_type": "markdown",
   "metadata": {},
   "source": [
    "Example from docs, just to make sure we can access the environment"
   ]
  },
  {
   "cell_type": "code",
   "execution_count": 2,
   "metadata": {},
   "outputs": [],
   "source": [
    "\n",
    "env = gym.make(\"LunarLander-v2\", render_mode=\"human\")\n",
    "observation, info = env.reset()\n",
    "\n",
    "for _ in range(1000):\n",
    "    action = env.action_space.sample()  # agent policy that uses the observation and info\n",
    "    observation, reward, terminated, truncated, info = env.step(action)\n",
    "\n",
    "    if terminated or truncated:\n",
    "        observation, info = env.reset()\n",
    "\n",
    "env.close()"
   ]
  },
  {
   "cell_type": "markdown",
   "metadata": {},
   "source": [
    "Simple model first. The inputs are an 8 dimensional vector, and the outputs are 4 dimensional vector. The model is a simple 2 layer MLP with 32 hidden units."
   ]
  },
  {
   "cell_type": "code",
   "execution_count": 99,
   "metadata": {},
   "outputs": [],
   "source": [
    "hidden_size = 32\n",
    "class SimplePilot(nn.Module):\n",
    "    def __init__(self, max_coords):\n",
    "        super().__init__()\n",
    "        self.max_coords= torch.tensor(max_coords, dtype=torch.float32)\n",
    "        self.linear_relu_stack = nn.Sequential(\n",
    "            nn.Linear(8, hidden_size),\n",
    "            nn.ReLU(),\n",
    "            nn.Linear(hidden_size, hidden_size),\n",
    "            nn.ReLU(),\n",
    "            nn.Linear(hidden_size, 4),\n",
    "        )\n",
    "\n",
    "    def forward(self, x):\n",
    "        # normalize the input (disabled at the moment)\n",
    "        # x = x / self.max_coords\n",
    "        logits = self.linear_relu_stack(x)\n",
    "        return logits"
   ]
  },
  {
   "cell_type": "markdown",
   "metadata": {},
   "source": [
    "Quick test"
   ]
  },
  {
   "cell_type": "code",
   "execution_count": 100,
   "metadata": {},
   "outputs": [
    {
     "name": "stdout",
     "output_type": "stream",
     "text": [
      "Action: 2, Reward: 1.0748424348353012\n"
     ]
    }
   ],
   "source": [
    "env = gym.make(\"LunarLander-v2\", render_mode=\"rgb_array\")\n",
    "max_coords = env.observation_space.high\n",
    "pilot = SimplePilot(max_coords)\n",
    "observation, info = env.reset()\n",
    "observation = torch.tensor(observation, dtype=torch.float32)\n",
    "probs = nn.functional.softmax(pilot(observation),dim=0)\n",
    "# sample from the distribution\n",
    "action = torch.multinomial(probs, 1).item()\n",
    "observation, reward, terminated, truncated, info = env.step(action)\n",
    "print(f\"Action: {action}, Reward: {reward}\")\n",
    "env.close()"
   ]
  },
  {
   "cell_type": "code",
   "execution_count": null,
   "metadata": {},
   "outputs": [],
   "source": [
    "max_coords"
   ]
  },
  {
   "cell_type": "code",
   "execution_count": 101,
   "metadata": {},
   "outputs": [
    {
     "data": {
      "text/plain": [
       "<matplotlib.image.AxesImage at 0x14065e3d0>"
      ]
     },
     "execution_count": 101,
     "metadata": {},
     "output_type": "execute_result"
    },
    {
     "data": {
      "image/png": "[encoded data removed]",
      "text/plain": [
       "<Figure size 640x480 with 1 Axes>"
      ]
     },
     "metadata": {},
     "output_type": "display_data"
    }
   ],
   "source": [
    "plt.imshow(env.render())"
   ]
  },
  {
   "cell_type": "markdown",
   "metadata": {},
   "source": [
    "Now we are ready to start building the policy gradient training. I used \"Hands on Machine Learning ...\" by Geron as a rough guide (the code in the book uses tensorflow and is for the cart pole problem.) I will refer to this as HOML."
   ]
  },
  {
   "cell_type": "code",
   "execution_count": 102,
   "metadata": {},
   "outputs": [],
   "source": [
    "# Older version, i think equivalent but not sure\n",
    "# def play_one_step(env, obs, model, loss_fn):\n",
    "#     model.zero_grad()\n",
    "#     obs = torch.tensor(obs, dtype=torch.float32)\n",
    "#     logits = model(obs)\n",
    "#     with torch.no_grad():\n",
    "#        probs = nn.functional.softmax(logits, dim=0)\n",
    "#        action = torch.multinomial(probs, 1).item()\n",
    "#     #Compute gradient assuming chosen action was correct\n",
    "#     loss = loss_fn(logits, torch.tensor(action))\n",
    "#     loss.backward()\n",
    "#     grads = [param.grad for param in model.parameters()]\n",
    "#     next_obs, reward, terminated, truncated, info = env.step(action)\n",
    "#     return next_obs, reward, terminated, truncated, grads"
   ]
  },
  {
   "cell_type": "code",
   "execution_count": 125,
   "metadata": {},
   "outputs": [],
   "source": [
    "def play_one_step(env, obs, model, loss_fn):\n",
    "    model.zero_grad()\n",
    "    obs = torch.tensor(obs, dtype=torch.float32)\n",
    "    logits = model(obs)\n",
    "    probs = nn.functional.softmax(logits, dim=0)\n",
    "    action = torch.multinomial(probs, 1).item()\n",
    "    #Compute gradient assuming chosen action was correct\n",
    "    loss = loss_fn(logits, torch.tensor(action))\n",
    "    grads = torch.autograd.grad(loss, model.parameters())\n",
    "\n",
    "    next_obs, reward, terminated, truncated, info = env.step(action)\n",
    "    return next_obs, reward, terminated, truncated, grads"
   ]
  },
  {
   "cell_type": "code",
   "execution_count": 126,
   "metadata": {},
   "outputs": [
    {
     "name": "stdout",
     "output_type": "stream",
     "text": [
      "6\n"
     ]
    }
   ],
   "source": [
    "env = gym.make(\"LunarLander-v2\", render_mode=\"rgb_array\")\n",
    "max_coords = env.observation_space.high\n",
    "pilot = SimplePilot(max_coords)\n",
    "observation, info = env.reset()\n",
    "next_obs, reward, terminated, truncated, grads = play_one_step(env,\n",
    "                                     observation, pilot, nn.CrossEntropyLoss())\n",
    "print(len(grads))\n",
    "env.close()"
   ]
  },
  {
   "cell_type": "markdown",
   "metadata": {},
   "source": [
    "Code copied directly from HOML"
   ]
  },
  {
   "cell_type": "code",
   "execution_count": 127,
   "metadata": {},
   "outputs": [],
   "source": [
    "def play_multiple_episodes(env, n_episodes, n_max_steps, model, loss_fn):\n",
    "    all_rewards = []\n",
    "    all_grads = []\n",
    "    for episode in range(n_episodes):\n",
    "        current_rewards = []\n",
    "        current_grads = []\n",
    "        obs, info = env.reset()\n",
    "        for step in range(n_max_steps):\n",
    "            obs, reward, done, truncated, grads = play_one_step(\n",
    "                env, obs, model, loss_fn)\n",
    "            current_rewards.append(reward)\n",
    "            current_grads.append(grads)\n",
    "            if done or truncated:\n",
    "                break\n",
    "\n",
    "        all_rewards.append(current_rewards)\n",
    "        all_grads.append(current_grads)\n",
    "\n",
    "    return all_rewards, all_grads"
   ]
  },
  {
   "cell_type": "markdown",
   "metadata": {},
   "source": [
    "Test"
   ]
  },
  {
   "cell_type": "code",
   "execution_count": 128,
   "metadata": {},
   "outputs": [],
   "source": [
    "env = gym.make(\"LunarLander-v2\", render_mode=\"rgb_array\")\n",
    "max_coords = env.observation_space.high\n",
    "pilot = SimplePilot(max_coords)\n",
    "observation, info = env.reset()\n",
    "all_rewards, all_grads = play_multiple_episodes(env, 3, 1000, pilot, nn.CrossEntropyLoss())\n",
    "env.close()"
   ]
  },
  {
   "cell_type": "markdown",
   "metadata": {},
   "source": [
    "Ok so this returns two lists with the rewards and gradients for each episode. Now we need discount the rewards, and normalize them so that they have mean 0 and std 1. This is a standard trick to make the training more stable.  This code is copied from HOML"
   ]
  },
  {
   "cell_type": "code",
   "execution_count": 129,
   "metadata": {},
   "outputs": [],
   "source": [
    "def discount_rewards(rewards, discount_factor):\n",
    "    discounted = np.array(rewards)\n",
    "    for step in range(len(rewards) - 2, -1, -1):\n",
    "        discounted[step] += discounted[step + 1] * discount_factor\n",
    "    return discounted\n",
    "\n",
    "def discount_and_normalize_rewards(all_rewards, discount_factor):\n",
    "    all_discounted_rewards = [discount_rewards(rewards, discount_factor)\n",
    "                              for rewards in all_rewards]\n",
    "    flat_rewards = np.concatenate(all_discounted_rewards)\n",
    "    reward_mean = flat_rewards.mean()\n",
    "    reward_std = flat_rewards.std()\n",
    "    return [(discounted_rewards - reward_mean) / reward_std\n",
    "            for discounted_rewards in all_discounted_rewards]"
   ]
  },
  {
   "cell_type": "markdown",
   "metadata": {},
   "source": [
    "Ok lets try training this"
   ]
  },
  {
   "cell_type": "code",
   "execution_count": 141,
   "metadata": {},
   "outputs": [],
   "source": [
    "n_iterations = 500\n",
    "n_episodes_per_update = 20\n",
    "n_max_steps = 1000\n",
    "discount_factor = 0.99\n",
    "loss_fn = nn.CrossEntropyLoss()\n"
   ]
  },
  {
   "cell_type": "markdown",
   "metadata": {},
   "source": [
    "Initialize the pilot and environment"
   ]
  },
  {
   "cell_type": "code",
   "execution_count": 142,
   "metadata": {},
   "outputs": [],
   "source": [
    "env = gym.make(\"LunarLander-v2\", render_mode=\"rgb_array\")\n",
    "max_coords = env.observation_space.high\n",
    "pilot = SimplePilot(max_coords)\n",
    "optimizer = torch.optim.Adam(pilot.parameters(), lr=0.005)"
   ]
  },
  {
   "cell_type": "markdown",
   "metadata": {},
   "source": [
    "Compute mean total rewards for the multiple episodes"
   ]
  },
  {
   "cell_type": "code",
   "execution_count": 143,
   "metadata": {},
   "outputs": [],
   "source": [
    "def net_rewards(all_rewards):\n",
    "    return np.mean([sum(rewards) for rewards in all_rewards])"
   ]
  },
  {
   "cell_type": "code",
   "execution_count": 144,
   "metadata": {},
   "outputs": [
    {
     "name": "stdout",
     "output_type": "stream",
     "text": [
      "Iteration: 0, Mean Reward: -176.51186634700335\n",
      "Iteration: 10, Mean Reward: -141.26183329762085\n",
      "Iteration: 20, Mean Reward: -110.26545440276519\n",
      "Iteration: 30, Mean Reward: -113.3561256479032\n",
      "Iteration: 40, Mean Reward: -99.13644443452985\n",
      "Iteration: 50, Mean Reward: -90.84621547401215\n",
      "Iteration: 60, Mean Reward: -95.42182329076223\n",
      "Iteration: 70, Mean Reward: -34.32345902297346\n",
      "Iteration: 80, Mean Reward: -44.61377877719811\n"
     ]
    }
   ],
   "source": [
    "# Training loop\n",
    "for iteration in range(n_iterations):\n",
    "    all_rewards, all_grads = play_multiple_episodes(env, n_episodes_per_update, n_max_steps, pilot, loss_fn)\n",
    "    all_final_rewards = discount_and_normalize_rewards(all_rewards, discount_factor)\n",
    "    all_mean_grads = []\n",
    "    for var_index, param in enumerate(pilot.parameters()):\n",
    "        mean_grads = torch.mean(\n",
    "            torch.stack([final_reward * all_grads[episode_index][step][var_index]\n",
    "                         for episode_index, final_rewards in enumerate(all_final_rewards)\n",
    "                             for step, final_reward in enumerate(final_rewards)]), dim=0)\n",
    "        all_mean_grads.append(mean_grads)\n",
    "    #optimizer.zero_grad()\n",
    "    for grad, param in zip(all_mean_grads, pilot.parameters()):\n",
    "        param.grad = grad\n",
    "    optimizer.step()\n",
    "    if iteration % 10 == 0:\n",
    "        print(f\"Iteration: {iteration}, Mean Reward: {net_rewards(all_rewards)}\")\n"
   ]
  },
  {
   "cell_type": "code",
   "execution_count": null,
   "metadata": {},
   "outputs": [],
   "source": [
    "#from HOML notebook\n",
    "def plot_animation(frames, repeat=False, interval=40):\n",
    "    fig = plt.figure()\n",
    "    patch = plt.imshow(frames[0])\n",
    "    plt.axis('off')\n",
    "    anim = matplotlib.animation.FuncAnimation(\n",
    "        fig, update_scene, fargs=(frames, patch),\n",
    "        frames=len(frames), repeat=repeat, interval=interval)\n",
    "    plt.close()\n",
    "    return anim"
   ]
  },
  {
   "cell_type": "code",
   "execution_count": 39,
   "metadata": {},
   "outputs": [],
   "source": [
    "env.close()\n",
    "frames = []\n",
    "env = gym.make(\"LunarLander-v2\", render_mode=\"rgb_array\")\n",
    "observation, info = env.reset()\n",
    "with torch.no_grad():\n",
    "    for _ in range(1000):\n",
    "        frames.append(env.render())\n",
    "        logits = pilot(torch.tensor(observation, dtype=torch.float32))\n",
    "        probs = nn.functional.softmax(logits, dim=0)\n",
    "        action = torch.multinomial(probs, 1).item()\n",
    "        observation, reward, terminated, truncated, info = env.step(action)\n",
    "\n",
    "        if terminated or truncated:\n",
    "            break\n",
    "\n",
    "env.close()\n",
    "plot_animation(frames)"
   ]
  },
  {
   "cell_type": "code",
   "execution_count": 94,
   "metadata": {},
   "outputs": [
    {
     "data": {
      "text/plain": [
       "tensor([0.2746, 0.2482, 0.2018, 0.2755], grad_fn=<SoftmaxBackward0>)"
      ]
     },
     "execution_count": 94,
     "metadata": {},
     "output_type": "execute_result"
    }
   ],
   "source": [
    "nn.functional.softmax(pilot(torch.tensor(observation, dtype=torch.float32)),dim=0)"
   ]
  },
  {
   "cell_type": "code",
   "execution_count": 30,
   "metadata": {},
   "outputs": [],
   "source": [
    "env.close()"
   ]
  },
  {
   "cell_type": "code",
   "execution_count": 32,
   "metadata": {},
   "outputs": [],
   "source": [
    "first_paramter = pilot.parameters().__next__()"
   ]
  },
  {
   "cell_type": "code",
   "execution_count": null,
   "metadata": {},
   "outputs": [],
   "source": []
  }
 ],
 "metadata": {
  "kernelspec": {
   "display_name": "lunar",
   "language": "python",
   "name": "python3"
  },
  "language_info": {
   "codemirror_mode": {
    "name": "ipython",
    "version": 3
   },
   "file_extension": ".py",
   "mimetype": "text/x-python",
   "name": "python",
   "nbconvert_exporter": "python",
   "pygments_lexer": "ipython3",
   "version": "3.11.4"
  },
  "orig_nbformat": 4
 },
 "nbformat": 4,
 "nbformat_minor": 2
}
