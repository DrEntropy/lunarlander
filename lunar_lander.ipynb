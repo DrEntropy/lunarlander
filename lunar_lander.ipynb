{
 "cells": [
  {
   "cell_type": "code",
   "execution_count": 1,
   "metadata": {},
   "outputs": [],
   "source": [
    "import gymnasium as gym\n",
    "import torch\n",
    "from torch import nn\n",
    "import matplotlib.pyplot as plt\n",
    "import numpy as np"
   ]
  },
  {
   "cell_type": "markdown",
   "metadata": {},
   "source": [
    "Example from docs, just to make sure we can access the environment"
   ]
  },
  {
   "cell_type": "code",
   "execution_count": 2,
   "metadata": {},
   "outputs": [],
   "source": [
    "\n",
    "env = gym.make(\"LunarLander-v2\", render_mode=\"human\")\n",
    "observation, info = env.reset()\n",
    "\n",
    "for _ in range(1000):\n",
    "    action = env.action_space.sample()  # agent policy that uses the observation and info\n",
    "    observation, reward, terminated, truncated, info = env.step(action)\n",
    "\n",
    "    if terminated or truncated:\n",
    "        observation, info = env.reset()\n",
    "\n",
    "env.close()"
   ]
  },
  {
   "cell_type": "markdown",
   "metadata": {},
   "source": [
    "Simple model first. The inputs are an 8 dimensional vector, and the outputs are 4 dimensional vector. The model is a simple 2 layer MLP with 32 hidden units."
   ]
  },
  {
   "cell_type": "code",
   "execution_count": 3,
   "metadata": {},
   "outputs": [],
   "source": [
    "hidden_size = 32\n",
    "class SimplePilot(nn.Module):\n",
    "    def __init__(self, max_coords):\n",
    "        super().__init__()\n",
    "        self.max_coords= torch.tensor(max_coords, dtype=torch.float32)\n",
    "        self.linear_relu_stack = nn.Sequential(\n",
    "            nn.Linear(8, hidden_size),\n",
    "            nn.ReLU(),\n",
    "            #nn.Linear(hidden_size, hidden_size),\n",
    "            #nn.ReLU(),\n",
    "            nn.Linear(hidden_size, 4),\n",
    "        )\n",
    "\n",
    "    def forward(self, x):\n",
    "        # normalize the input\n",
    "        x = x / self.max_coords\n",
    "        logits = self.linear_relu_stack(x)\n",
    "        return logits"
   ]
  },
  {
   "cell_type": "markdown",
   "metadata": {},
   "source": [
    "Quick test"
   ]
  },
  {
   "cell_type": "code",
   "execution_count": 4,
   "metadata": {},
   "outputs": [
    {
     "name": "stdout",
     "output_type": "stream",
     "text": [
      "Action: 2, Reward: -1.0536370932811565\n"
     ]
    }
   ],
   "source": [
    "env = gym.make(\"LunarLander-v2\", render_mode=\"rgb_array\")\n",
    "max_coords = env.observation_space.high\n",
    "pilot = SimplePilot(max_coords)\n",
    "observation, info = env.reset()\n",
    "observation = torch.tensor(observation, dtype=torch.float32)\n",
    "probs = nn.functional.softmax(pilot(observation),dim=0)\n",
    "# sample from the distribution\n",
    "action = torch.multinomial(probs, 1).item()\n",
    "observation, reward, terminated, truncated, info = env.step(action)\n",
    "print(f\"Action: {action}, Reward: {reward}\")\n",
    "env.close()"
   ]
  },
  {
   "cell_type": "code",
   "execution_count": 5,
   "metadata": {},
   "outputs": [
    {
     "data": {
      "text/plain": [
       "<matplotlib.image.AxesImage at 0x124c7bd10>"
      ]
     },
     "execution_count": 5,
     "metadata": {},
     "output_type": "execute_result"
    },
    {
     "data": {
      "image/png": "[encoded data removed]",
      "text/plain": [
       "<Figure size 640x480 with 1 Axes>"
      ]
     },
     "metadata": {},
     "output_type": "display_data"
    }
   ],
   "source": [
    "plt.imshow(env.render())"
   ]
  },
  {
   "cell_type": "markdown",
   "metadata": {},
   "source": [
    "Now we are ready to start building the policy gradient training. I used \"Hands on Machine Learning ...\" by Geron as a rough guide (the code in the book uses tensorflow and is for the cart pole problem.) I will refer to this as HOML."
   ]
  },
  {
   "cell_type": "code",
   "execution_count": 6,
   "metadata": {},
   "outputs": [],
   "source": [
    "def play_one_step(env, obs, model, loss_fn):\n",
    "    model.zero_grad()\n",
    "    obs = torch.tensor(obs, dtype=torch.float32)\n",
    "    logits = model(obs)\n",
    "    probs = nn.functional.softmax(logits, dim=0)\n",
    "    action = torch.multinomial(probs, 1).item()\n",
    "    one_hot_action = torch.nn.functional.one_hot(torch.tensor(action), num_classes=4)\n",
    "    #Compute gradient assuming chosen action was correct\n",
    "    loss = loss_fn(logits, one_hot_action.float())\n",
    "    loss.backward()\n",
    "    grads = [param.grad for param in model.parameters()]\n",
    "    action = torch.multinomial(probs, 1).item()\n",
    "    next_obs, reward, terminated, truncated, info = env.step(action)\n",
    "    return next_obs, reward, terminated, truncated, grads"
   ]
  },
  {
   "cell_type": "code",
   "execution_count": 7,
   "metadata": {},
   "outputs": [
    {
     "name": "stdout",
     "output_type": "stream",
     "text": [
      "4\n"
     ]
    }
   ],
   "source": [
    "env = gym.make(\"LunarLander-v2\", render_mode=\"rgb_array\")\n",
    "max_coords = env.observation_space.high\n",
    "pilot = SimplePilot(max_coords)\n",
    "observation, info = env.reset()\n",
    "next_obs, reward, terminated, truncated, grads = play_one_step(env,\n",
    "                                     observation, pilot, nn.CrossEntropyLoss())\n",
    "print(len(grads))\n",
    "env.close()"
   ]
  },
  {
   "cell_type": "markdown",
   "metadata": {},
   "source": [
    "Code copied directly from HOML"
   ]
  },
  {
   "cell_type": "code",
   "execution_count": 8,
   "metadata": {},
   "outputs": [],
   "source": [
    "def play_multiple_episodes(env, n_episodes, n_max_steps, model, loss_fn):\n",
    "    all_rewards = []\n",
    "    all_grads = []\n",
    "    for episode in range(n_episodes):\n",
    "        current_rewards = []\n",
    "        current_grads = []\n",
    "        obs, info = env.reset()\n",
    "        for step in range(n_max_steps):\n",
    "            obs, reward, done, truncated, grads = play_one_step(\n",
    "                env, obs, model, loss_fn)\n",
    "            current_rewards.append(reward)\n",
    "            current_grads.append(grads)\n",
    "            if done or truncated:\n",
    "                break\n",
    "\n",
    "        all_rewards.append(current_rewards)\n",
    "        all_grads.append(current_grads)\n",
    "\n",
    "    return all_rewards, all_grads"
   ]
  },
  {
   "cell_type": "markdown",
   "metadata": {},
   "source": [
    "Test"
   ]
  },
  {
   "cell_type": "code",
   "execution_count": 75,
   "metadata": {},
   "outputs": [],
   "source": [
    "env = gym.make(\"LunarLander-v2\", render_mode=\"rgb_array\")\n",
    "max_coords = env.observation_space.high\n",
    "pilot = SimplePilot(max_coords)\n",
    "observation, info = env.reset()\n",
    "all_rewards, all_grads = play_multiple_episodes(env, 3, 1000, pilot, nn.CrossEntropyLoss())\n",
    "env.close()"
   ]
  },
  {
   "cell_type": "markdown",
   "metadata": {},
   "source": [
    "Ok so this returns two lists with the rewards and gradients for each episode. Now we need discount the rewards, and normalize them so that they have mean 0 and std 1. This is a standard trick to make the training more stable.  This code is copied from HOML"
   ]
  },
  {
   "cell_type": "code",
   "execution_count": 9,
   "metadata": {},
   "outputs": [],
   "source": [
    "def discount_rewards(rewards, discount_factor):\n",
    "    discounted = np.array(rewards)\n",
    "    for step in range(len(rewards) - 2, -1, -1):\n",
    "        discounted[step] += discounted[step + 1] * discount_factor\n",
    "    return discounted\n",
    "\n",
    "def discount_and_normalize_rewards(all_rewards, discount_factor):\n",
    "    all_discounted_rewards = [discount_rewards(rewards, discount_factor)\n",
    "                              for rewards in all_rewards]\n",
    "    flat_rewards = np.concatenate(all_discounted_rewards)\n",
    "    reward_mean = flat_rewards.mean()\n",
    "    reward_std = flat_rewards.std()\n",
    "    return [(discounted_rewards - reward_mean) / reward_std\n",
    "            for discounted_rewards in all_discounted_rewards]"
   ]
  },
  {
   "cell_type": "markdown",
   "metadata": {},
   "source": [
    "Ok lets try training this"
   ]
  },
  {
   "cell_type": "code",
   "execution_count": 12,
   "metadata": {},
   "outputs": [],
   "source": [
    "n_iterations = 500\n",
    "n_episodes_per_update = 50\n",
    "n_max_steps = 1000\n",
    "discount_factor = 0.95\n",
    "loss_fn = nn.CrossEntropyLoss()\n",
    "optimizer = torch.optim.Adam(pilot.parameters(), lr=0.01)"
   ]
  },
  {
   "cell_type": "markdown",
   "metadata": {},
   "source": [
    "Initialize the pilot and environment"
   ]
  },
  {
   "cell_type": "code",
   "execution_count": 11,
   "metadata": {},
   "outputs": [],
   "source": [
    "env = gym.make(\"LunarLander-v2\", render_mode=\"rgb_array\")\n",
    "max_coords = env.observation_space.high\n",
    "pilot = SimplePilot(max_coords)\n"
   ]
  },
  {
   "cell_type": "markdown",
   "metadata": {},
   "source": [
    "Compute mean total rewards for the multiple episodes"
   ]
  },
  {
   "cell_type": "code",
   "execution_count": 23,
   "metadata": {},
   "outputs": [],
   "source": [
    "def net_rewards(all_rewards):\n",
    "    return np.mean([sum(rewards) for rewards in all_rewards])"
   ]
  },
  {
   "cell_type": "code",
   "execution_count": 25,
   "metadata": {},
   "outputs": [
    {
     "name": "stdout",
     "output_type": "stream",
     "text": [
      "Iteration: 0, Mean Reward: -217.39327573364395\n",
      "Iteration: 50, Mean Reward: -283.9711714782008\n",
      "Iteration: 100, Mean Reward: -171.88047843245238\n",
      "Iteration: 150, Mean Reward: -297.76440726508514\n",
      "Iteration: 200, Mean Reward: -300.2797707764365\n",
      "Iteration: 250, Mean Reward: -464.2502719866481\n",
      "Iteration: 300, Mean Reward: -643.3567520771923\n",
      "Iteration: 350, Mean Reward: -568.0402634351217\n",
      "Iteration: 400, Mean Reward: -628.1072562617858\n",
      "Iteration: 450, Mean Reward: -476.16152458567404\n",
      "Iteration: 500, Mean Reward: -482.0020959861792\n",
      "Iteration: 550, Mean Reward: -308.8508794210924\n",
      "Iteration: 600, Mean Reward: -253.55425354991445\n",
      "Iteration: 650, Mean Reward: -226.29005776053273\n",
      "Iteration: 700, Mean Reward: -339.25849741442784\n",
      "Iteration: 750, Mean Reward: -182.74897568736532\n",
      "Iteration: 800, Mean Reward: -207.84142963938484\n",
      "Iteration: 850, Mean Reward: -208.5495329528449\n",
      "Iteration: 900, Mean Reward: -199.02912261944246\n",
      "Iteration: 950, Mean Reward: -197.93463664289294\n"
     ]
    }
   ],
   "source": [
    "# Training loop\n",
    "for iteration in range(n_iterations):\n",
    "    all_rewards, all_grads = play_multiple_episodes(env, n_episodes_per_update, n_max_steps, pilot, loss_fn)\n",
    "    all_final_rewards = discount_and_normalize_rewards(all_rewards, discount_factor)\n",
    "    all_mean_grads = []\n",
    "    for var_index, param in enumerate(pilot.parameters()):\n",
    "        mean_grads = torch.mean(\n",
    "            torch.stack([final_reward * all_grads[episode_index][step][var_index]\n",
    "                         for episode_index, final_rewards in enumerate(all_final_rewards)\n",
    "                             for step, final_reward in enumerate(final_rewards)]), dim=0)\n",
    "        all_mean_grads.append(mean_grads)\n",
    "    optimizer.zero_grad()\n",
    "    for grad, param in zip(all_mean_grads, pilot.parameters()):\n",
    "        param.grad = grad\n",
    "    optimizer.step()\n",
    "    if iteration % 50 == 0:\n",
    "        print(f\"Iteration: {iteration}, Mean Reward: {net_rewards(all_rewards)}\")\n"
   ]
  },
  {
   "cell_type": "code",
   "execution_count": 31,
   "metadata": {},
   "outputs": [],
   "source": [
    "env.close()\n",
    "\n",
    "env = gym.make(\"LunarLander-v2\", render_mode=\"human\")\n",
    "observation, info = env.reset()\n",
    "with torch.no_grad():\n",
    "    for _ in range(1000):\n",
    "        logits = pilot(torch.tensor(observation, dtype=torch.float32))\n",
    "        probs = nn.functional.softmax(logits, dim=0)\n",
    "        action = torch.multinomial(probs, 1).item()\n",
    "        observation, reward, terminated, truncated, info = env.step(action)\n",
    "\n",
    "        if terminated or truncated:\n",
    "            observation, info = env.reset()\n",
    "\n",
    "env.close()"
   ]
  },
  {
   "cell_type": "code",
   "execution_count": 94,
   "metadata": {},
   "outputs": [
    {
     "data": {
      "text/plain": [
       "tensor([0.2746, 0.2482, 0.2018, 0.2755], grad_fn=<SoftmaxBackward0>)"
      ]
     },
     "execution_count": 94,
     "metadata": {},
     "output_type": "execute_result"
    }
   ],
   "source": [
    "nn.functional.softmax(pilot(torch.tensor(observation, dtype=torch.float32)),dim=0)"
   ]
  },
  {
   "cell_type": "code",
   "execution_count": 30,
   "metadata": {},
   "outputs": [],
   "source": [
    "env.close()"
   ]
  },
  {
   "cell_type": "code",
   "execution_count": null,
   "metadata": {},
   "outputs": [],
   "source": []
  }
 ],
 "metadata": {
  "kernelspec": {
   "display_name": "lunar",
   "language": "python",
   "name": "python3"
  },
  "language_info": {
   "codemirror_mode": {
    "name": "ipython",
    "version": 3
   },
   "file_extension": ".py",
   "mimetype": "text/x-python",
   "name": "python",
   "nbconvert_exporter": "python",
   "pygments_lexer": "ipython3",
   "version": "3.11.4"
  },
  "orig_nbformat": 4
 },
 "nbformat": 4,
 "nbformat_minor": 2
}
